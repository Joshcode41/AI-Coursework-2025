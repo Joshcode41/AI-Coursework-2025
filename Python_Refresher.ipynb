{
  "nbformat": 4,
  "nbformat_minor": 0,
  "metadata": {
    "colab": {
      "provenance": [],
      "authorship_tag": "ABX9TyOTraOn1n2NNj48wFWC8d20",
      "include_colab_link": true
    },
    "kernelspec": {
      "name": "python3",
      "display_name": "Python 3"
    },
    "language_info": {
      "name": "python"
    }
  },
  "cells": [
    {
      "cell_type": "markdown",
      "metadata": {
        "id": "view-in-github",
        "colab_type": "text"
      },
      "source": [
        "<a href=\"https://colab.research.google.com/github/Joshcode41/AI-Coursework-2025/blob/main/Python_Refresher.ipynb\" target=\"_parent\"><img src=\"https://colab.research.google.com/assets/colab-badge.svg\" alt=\"Open In Colab\"/></a>"
      ]
    },
    {
      "cell_type": "markdown",
      "source": [
        "Question_1"
      ],
      "metadata": {
        "id": "88xYlZAT7mLT"
      }
    },
    {
      "cell_type": "code",
      "source": [
        "# Question 1: Program to calculate number of seconds in given number of days\n",
        "# The program asks the user to input the number of days\n",
        "# Then multiplies by the number of seconds in one day (24*60*60)\n",
        "# Finally, it prints the result\n",
        "# Example:\n",
        "# Input: 2\n",
        "# Output: The number of seconds in 2 days is 172800.\n",
        "\n",
        "\n",
        "days = int(input(\"Enter the number of days: \"))\n",
        "seconds = days * 24 * 60 * 60\n",
        "print(f\"The number of seconds in {days} days is {seconds}.\")"
      ],
      "metadata": {
        "colab": {
          "base_uri": "https://localhost:8080/"
        },
        "id": "q_AQYcNz75mW",
        "outputId": "5dc65464-1434-409a-dade-e6478fa34299"
      },
      "execution_count": null,
      "outputs": [
        {
          "output_type": "stream",
          "name": "stdout",
          "text": [
            "Enter the number of days: 12\n",
            "The number of seconds in 12 days is 1036800.\n"
          ]
        }
      ]
    },
    {
      "cell_type": "markdown",
      "source": [
        "Question_2"
      ],
      "metadata": {
        "id": "AkloVBrF8OzU"
      }
    },
    {
      "cell_type": "code",
      "source": [
        "# Question 2: Program to calculate the volume of a sphere\n",
        "# Formula: Volume = (4/3) * π * r^3\n",
        "# We ask the user to input the radius, use exponentiation operator (**) to compute r^3\n",
        "# Example:\n",
        "# Input: 3\n",
        "# Output: The volume of the sphere with radius 3.0 is 113.09733552923254.\n",
        "\n",
        "\n",
        "import math\n",
        "radius = float(input(\"Enter the radius of the sphere: \"))\n",
        "volume = (4/3) * math.pi * (radius ** 3)\n",
        "print(f\"The volume of the sphere with radius {radius} is {volume}.\")"
      ],
      "metadata": {
        "colab": {
          "base_uri": "https://localhost:8080/"
        },
        "id": "1iEF9mUC8SRC",
        "outputId": "301b96f9-6692-4588-c671-848f0d0d4bc6"
      },
      "execution_count": null,
      "outputs": [
        {
          "output_type": "stream",
          "name": "stdout",
          "text": [
            "Enter the radius of the sphere: 31\n",
            "The volume of the sphere with radius 31.0 is 124788.24899079136.\n"
          ]
        }
      ]
    },
    {
      "cell_type": "markdown",
      "source": [
        "Question_3"
      ],
      "metadata": {
        "id": "stWNRIl98baW"
      }
    },
    {
      "cell_type": "code",
      "source": [
        "# Program to compute the area and perimeter of a square using functions\n",
        "\n",
        "# Function to calculate the area of a square\n",
        "def area(side):\n",
        "    return side * side\n",
        "\n",
        "# Function to calculate the perimeter of a square\n",
        "def perimeter(side):\n",
        "    return 4 * side\n",
        "\n",
        "# Ask the user to enter the side length\n",
        "side_length = float(input(\"Enter the side length of the square: \"))\n",
        "\n",
        "# Call the functions and display results\n",
        "print(f\"Area of the square: {area(side_length)}\")\n",
        "print(f\"Perimeter of the square: {perimeter(side_length)}\")\n"
      ],
      "metadata": {
        "colab": {
          "base_uri": "https://localhost:8080/"
        },
        "id": "jJrfm_LL-EOr",
        "outputId": "701c04f6-964a-43a0-d992-5b2e7e96143f"
      },
      "execution_count": null,
      "outputs": [
        {
          "output_type": "stream",
          "name": "stdout",
          "text": [
            "Enter the side length of the square: 5\n",
            "Area of the square: 25.0\n",
            "Perimeter of the square: 20.0\n"
          ]
        }
      ]
    },
    {
      "cell_type": "markdown",
      "source": [
        "Question_4"
      ],
      "metadata": {
        "id": "ZZMZntnZ8m1U"
      }
    },
    {
      "cell_type": "code",
      "source": [
        "# Program to check if a character is uppercase or lowercase using a function\n",
        "\n",
        "# Function to check the case of a character\n",
        "def check_case(char):\n",
        "    if char.isupper():\n",
        "        return \"Uppercase\"\n",
        "    elif char.islower():\n",
        "        return \"Lowercase\"\n",
        "    else:\n",
        "        return \"Not an alphabet character\"\n",
        "\n",
        "# Ask the user for input\n",
        "character = input(\"Enter a single character: \")\n",
        "\n",
        "# Ensure only the first character is considered\n",
        "if character:\n",
        "    result = check_case(character[0])\n",
        "    print(f\"The character '{character[0]}' is {result}.\")\n",
        "else:\n",
        "    print(\"No character entered.\")\n"
      ],
      "metadata": {
        "colab": {
          "base_uri": "https://localhost:8080/"
        },
        "id": "NpForRzw-acG",
        "outputId": "41e57d52-f96a-413e-90f6-bda526e912af"
      },
      "execution_count": null,
      "outputs": [
        {
          "output_type": "stream",
          "name": "stdout",
          "text": [
            "Enter a single character: A\n",
            "The character 'A' is Uppercase.\n"
          ]
        }
      ]
    },
    {
      "cell_type": "markdown",
      "source": [
        "Question_5"
      ],
      "metadata": {
        "id": "et5bjSlx8xoE"
      }
    },
    {
      "cell_type": "code",
      "source": [
        "# Python equivalent of the given pseudocode\n",
        "# BEGIN\n",
        "# SET x TO 0, y TO 20\n",
        "# REPEAT\n",
        "#   SUBTRACT 4 FROM y\n",
        "#   ADD 2/y TO x\n",
        "# UNTIL y IS LESS THAN 6\n",
        "# DISPLAY x\n",
        "# END\n",
        "\n",
        "# Initialize variables\n",
        "x = 0\n",
        "y = 20\n",
        "\n",
        "# Use a loop (repeat until condition is met → while loop in Python)\n",
        "while y >= 6:\n",
        "    y = y - 4           # Subtract 4 from y\n",
        "    x = x + (2 / y)     # Add 2/y to x\n",
        "\n",
        "# Display result\n",
        "print(f\"Final value of x is {x}\")\n"
      ],
      "metadata": {
        "colab": {
          "base_uri": "https://localhost:8080/"
        },
        "id": "-9p47OCx-yBY",
        "outputId": "53e369bd-5f73-483d-f255-837c24ba90db"
      },
      "execution_count": null,
      "outputs": [
        {
          "output_type": "stream",
          "name": "stdout",
          "text": [
            "Final value of x is 1.0416666666666665\n"
          ]
        }
      ]
    },
    {
      "cell_type": "markdown",
      "source": [
        "Question_6"
      ],
      "metadata": {
        "id": "wz-UMUEU858W"
      }
    },
    {
      "cell_type": "code",
      "source": [
        "# Program to input 5 values into an array, then compute and display the average\n",
        "\n",
        "# Create an empty list to store values\n",
        "values = []\n",
        "\n",
        "# Loop 5 times to get input from user\n",
        "for i in range(5):\n",
        "    num = float(input(f\"Enter value {i+1}: \"))\n",
        "    values.append(num)\n",
        "\n",
        "# Calculate average\n",
        "average = sum(values) / len(values)\n",
        "\n",
        "# Display the result\n",
        "print(f\"The average of the entered values is {average:.2f}\")\n"
      ],
      "metadata": {
        "colab": {
          "base_uri": "https://localhost:8080/"
        },
        "id": "jmfWqSjB-4Ri",
        "outputId": "7db7d86f-3e86-4790-d133-aa54c5e10f95"
      },
      "execution_count": null,
      "outputs": [
        {
          "output_type": "stream",
          "name": "stdout",
          "text": [
            "Enter value 1: 2\n",
            "Enter value 2: 3\n",
            "Enter value 3: 4\n",
            "Enter value 4: 5\n",
            "Enter value 5: 6\n",
            "The average of the entered values is 4.00\n"
          ]
        }
      ]
    },
    {
      "cell_type": "markdown",
      "source": [
        "Question_7"
      ],
      "metadata": {
        "id": "bowJnuJPSDWJ"
      }
    },
    {
      "cell_type": "code",
      "source": [
        "![Codility Screenshot](https://drive.google.com/uc?id=15HGiJ6oN0BcYfxAtVenu8ep8U5OML93u)"
      ],
      "metadata": {
        "id": "tBnewR2DSHs0"
      },
      "execution_count": null,
      "outputs": []
    }
  ]
}